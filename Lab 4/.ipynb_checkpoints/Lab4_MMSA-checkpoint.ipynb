{
 "cells": [
  {
   "cell_type": "code",
   "execution_count": null,
   "id": "22b32a2f",
   "metadata": {},
   "outputs": [],
   "source": [
    "import pandas as pd\n",
    "import numpy as np\n",
    "\n",
    "from prettytable import PrettyTable\n",
    "import matplotlib.pyplot as plt\n",
    "import seaborn as sns\n",
    "\n",
    "import scipy\n",
    "from scipy import signal\n",
    "\n",
    "import warnings\n",
    "from itertools import combinations\n",
    "from datetime import date\n",
    "import time\n",
    "from sklearn.model_selection import train_test_split\n",
    "\n",
    "import statsmodels.tsa.api as smt\n",
    "import statsmodels.api as sm\n",
    "from statsmodels.tsa import stattools\n",
    "from statsmodels.graphics.tsaplots import plot_acf, plot_pacf\n",
    "from statsmodels.tsa.ar_model import AutoReg\n",
    "from statsmodels.tools.eval_measures import rmse, aic\n",
    "from statsmodels.tsa.api import VAR\n",
    "from statsmodels.tsa.stattools import adfuller\n",
    "from statsmodels.stats.stattools import durbin_watson\n",
    "\n",
    "import pmdarima as pm\n",
    "\n",
    "warnings.filterwarnings( \"ignore\")\n",
    "sns.set_theme(style='whitegrid', palette='pastel')\n",
    "\n",
    "plt.rcParams[\"figure.figsize\"] = (12, 8)"
   ]
  },
  {
   "cell_type": "markdown",
   "id": "7574811e",
   "metadata": {},
   "source": [
    "# Step 1: Data preprocessing into time series"
   ]
  },
  {
   "cell_type": "code",
   "execution_count": null,
   "id": "475e9cd7",
   "metadata": {},
   "outputs": [],
   "source": [
    "path = 'https://drive.google.com/file/d/1i_VkX57he5_QICWnX-egL2AHpW0yEDvd/view?usp=share_link'\n",
    "path = 'https://drive.google.com/uc?id=' + path.split('/')[-2]\n",
    "\n",
    "df = pd.read_csv(path, sep=',', header=0, encoding='utf-8')\n",
    "df.drop(df.columns[0], axis=1, inplace=True)\n",
    "\n",
    "print(list(df.columns))\n",
    "df.head()"
   ]
  },
  {
   "cell_type": "markdown",
   "id": "cccd6674",
   "metadata": {},
   "source": [
    "4 chosen variables are:\n",
    "- tempC (predictor);\n",
    "- visibility (predictor);\n",
    "- injured_count (target variable);\n",
    "- severity (target variable)."
   ]
  },
  {
   "cell_type": "markdown",
   "id": "690946ef",
   "metadata": {},
   "source": [
    "Preprocessing of variables:\n",
    "- tempC - average over the day;\n",
    "- visibility - average over the day;\n",
    "- injured_count - average over the day;\n",
    "- severity - mapping severity levels to integers starting from 1 (there may be days with no accidents), then average over day."
   ]
  },
  {
   "cell_type": "code",
   "execution_count": null,
   "id": "026194b8",
   "metadata": {},
   "outputs": [],
   "source": [
    "ts = df[['datetime', 'tempC', 'visibility', 'injured_count', 'severity']].copy()\n",
    "print(f\"Unique severity levels: {list(df['severity'].unique())}\")\n",
    "\n",
    "sev_map = {'С погибшими': 3, 'Тяжёлый': 2, 'Легкий': 1}\n",
    "map_severity = lambda x: sev_map[x]\n",
    "\n",
    "ts['datetime'] = pd.to_datetime(ts['datetime']).dt.date\n",
    "ts['severity'] = ts['severity'].apply(map_severity)\n",
    "\n",
    "print(f\"Dates from {df['datetime'].min()} to {df['datetime'].max()}\")\n",
    "ts = ts.groupby(['datetime']).mean()\n",
    "ts.head()"
   ]
  },
  {
   "cell_type": "code",
   "execution_count": null,
   "id": "74acfe10",
   "metadata": {},
   "outputs": [],
   "source": [
    "print(f\"Number of days: {len(ts)}\")\n",
    "\n",
    "for num, item in enumerate(ts.columns):\n",
    "    plt.subplot(2, 2, num+1)\n",
    "    plt.title(item)\n",
    "    plt.plot(ts[item])"
   ]
  },
  {
   "cell_type": "markdown",
   "id": "c39353d6",
   "metadata": {},
   "source": [
    "# Step 2: Stationarity analysis"
   ]
  },
  {
   "cell_type": "code",
   "execution_count": null,
   "id": "e0d7a34f",
   "metadata": {},
   "outputs": [],
   "source": [
    "for num, item in enumerate(ts.columns):\n",
    "    result = smt.stattools.adfuller(ts[item])\n",
    "    print(f\"\\nVariable: {item}\")\n",
    "    print(\"Augmented Dickey-Fuller test:\")\n",
    "    print(f\"\\tStatistic value = {result[0]:.5f}\\n\\tp-value = {result[1]:.5f}\")\n",
    "    print(\"\\tStationary\" if (result[1] < 0.05) and \\\n",
    "          (result[0] < result[4]['5%']) else \"\\tNon-stationary\")"
   ]
  },
  {
   "cell_type": "markdown",
   "id": "06ddf390",
   "metadata": {},
   "source": [
    "All four time series seemed to be stationary for mathematical expectation and variance (with the augmented Dickey-Fuller test). No further processing is needed."
   ]
  },
  {
   "cell_type": "markdown",
   "id": "c6e8e7cc",
   "metadata": {},
   "source": [
    "# Step 3: Analysis of covariance among targets and predictors "
   ]
  },
  {
   "cell_type": "markdown",
   "id": "ab573c91",
   "metadata": {},
   "source": [
    "## Autocovariance"
   ]
  },
  {
   "cell_type": "code",
   "execution_count": null,
   "id": "a04a6dac",
   "metadata": {},
   "outputs": [],
   "source": [
    "for num, item in enumerate(ts.columns):\n",
    "    plt.subplot(2, 2, num+1)\n",
    "    plt.title(item)\n",
    "    plt.plot(stattools.acovf(ts[item], fft=False)) # autocovariance without window"
   ]
  },
  {
   "cell_type": "markdown",
   "id": "f0d21b07",
   "metadata": {},
   "source": [
    "Autocovariance:\n",
    "1. tempC and visibility show significant yearly autocovariance;\n",
    "2. injured_count and severity may have very slight autocovariance with smaller periods.\n",
    "\n",
    "As point 1 is obvious, point 2 is not, so are better visualized with ACF plots:"
   ]
  },
  {
   "cell_type": "code",
   "execution_count": null,
   "id": "72ef1144",
   "metadata": {},
   "outputs": [],
   "source": [
    "plot_acf(ts['injured_count'], lags=200)"
   ]
  },
  {
   "cell_type": "code",
   "execution_count": null,
   "id": "7188e005",
   "metadata": {},
   "outputs": [],
   "source": [
    "plot_acf(ts['severity'], lags=200)"
   ]
  },
  {
   "cell_type": "markdown",
   "id": "6660aca6",
   "metadata": {},
   "source": [
    "As we can see, there are slight weekly autocorrelations."
   ]
  },
  {
   "cell_type": "markdown",
   "id": "0b5ac404",
   "metadata": {},
   "source": [
    "## Mutual correlation"
   ]
  },
  {
   "cell_type": "markdown",
   "id": "cbe867c4",
   "metadata": {},
   "source": [
    "Get all unique pairs of variables and define cross correlation function."
   ]
  },
  {
   "cell_type": "code",
   "execution_count": null,
   "id": "902baba7",
   "metadata": {},
   "outputs": [],
   "source": [
    "pairs = [comb for comb in combinations(list(ts.columns), 2)]\n",
    "for i in pairs:\n",
    "    print(i)\n",
    "    \n",
    "def crosscorr(datax, datay, lag=0, wrap=False):\n",
    "    \"\"\" Lag-N cross correlation. \n",
    "    lag : int, default 0\n",
    "    datax, datay : pandas.Series objects of equal length\n",
    "    \n",
    "    Returns\n",
    "    crosscorr : float\n",
    "    \"\"\"\n",
    "    if wrap:\n",
    "        shiftedy = datay.shift(lag)\n",
    "        shiftedy.iloc[:lag] = datay.iloc[-lag:].values\n",
    "        return datax.corr(shiftedy)\n",
    "    else: \n",
    "        return datax.corr(datay.shift(lag))"
   ]
  },
  {
   "cell_type": "code",
   "execution_count": null,
   "id": "7fc3cb31",
   "metadata": {},
   "outputs": [],
   "source": [
    "plt.rcParams[\"figure.figsize\"] = (12, 16)\n",
    "max_lag = 600\n",
    "\n",
    "for num, pair in enumerate(pairs):\n",
    "    plt.subplot(3, 2, num+1)\n",
    "    t1 = ts[pair[0]]\n",
    "    t2 = ts[pair[1]]\n",
    "    \n",
    "    rs = [crosscorr(t1, t2, lag) for lag in range(-int(max_lag),int(max_lag+1))]\n",
    "    offset = np.floor(len(rs)/2)-np.argmax(rs)\n",
    "\n",
    "    plt.plot(rs)\n",
    "    plt.axvline(np.ceil(len(rs)/2), color='k', linestyle='--', label='Center')\n",
    "    plt.axvline(np.argmax(rs), color='r', linestyle='--', label='Peak synchrony')\n",
    "    plt.title(f\"{pair[0]} against {pair[1]}: {offset} days\")\n",
    "    plt.xlabel('Offset')\n",
    "    plt.ylabel('Pearson r')\n",
    "    plt.xticks(list(range(0, 1401, 200)), labels=[i-max_lag for i in list(range(0, 1401, 200))])\n",
    "    plt.xlim(right=(max_lag*2+60))\n",
    "    plt.legend()\n",
    "\n",
    "plt.rcParams[\"figure.figsize\"] = (12, 8)"
   ]
  },
  {
   "cell_type": "markdown",
   "id": "9b65ce61",
   "metadata": {},
   "source": [
    "As we can see, there are strong cross-correlations between all of the variables in the triple (tempC, visibility, severity).\n",
    "\n",
    "Some cross-correlation is observed between pairs (injured_count, tempC) and (injured_count, visibility).\n",
    "\n",
    "No visible cross-correlation between injured_count and severity (target variables).\n",
    "\n",
    "Such cross-correlations make the case where all predictors are at least somehow correlated with the targets. Here, severity will probably be the target to yield better quality models."
   ]
  },
  {
   "cell_type": "markdown",
   "id": "a563d557",
   "metadata": {},
   "source": [
    "# Step 4: high-frequency noise filtering"
   ]
  },
  {
   "cell_type": "markdown",
   "id": "a73a3bfd",
   "metadata": {},
   "source": [
    "Rolling window smoothing and gaussian filter are used."
   ]
  },
  {
   "cell_type": "code",
   "execution_count": null,
   "id": "f0c33cec",
   "metadata": {},
   "outputs": [],
   "source": [
    "window_size = 15\n",
    "std = 1\n",
    "ts_roll = ts.rolling(window=window_size, center=True).mean()\n",
    "ts_gauss = ts.rolling(window=window_size, win_type='gaussian', center=True).mean(std=std)\n",
    "ts_roll.head(10)"
   ]
  },
  {
   "cell_type": "code",
   "execution_count": null,
   "id": "f3fadf9f",
   "metadata": {},
   "outputs": [],
   "source": [
    "ts_gauss.head(10)"
   ]
  },
  {
   "cell_type": "code",
   "execution_count": null,
   "id": "f2a04221",
   "metadata": {},
   "outputs": [],
   "source": [
    "for num, item in enumerate(ts.columns):\n",
    "    ts1 = ts[8:365+9]\n",
    "    ts2 = ts_roll[8:365+9]\n",
    "    ts3 = ts_gauss[8:365+9]\n",
    "    plt.subplot(2, 2, num+1)\n",
    "    plt.title(item)\n",
    "    plt.plot(ts1[item], label=\"Raw time series\", \\\n",
    "             color=\"coral\")\n",
    "    plt.plot(ts3[item], label=f\"Gaussian (std = {std})\", \\\n",
    "             color=\"cornflowerblue\")\n",
    "    plt.plot(ts2[item], label=f\"Rolling window (window = {window_size})\", \\\n",
    "             color=\"black\")\n",
    "    plt.legend()"
   ]
  },
  {
   "cell_type": "markdown",
   "id": "2bd4f7d0",
   "metadata": {},
   "source": [
    "# Step 5: Spectral density function with and without filters"
   ]
  },
  {
   "cell_type": "code",
   "execution_count": null,
   "id": "4dd7f477",
   "metadata": {},
   "outputs": [],
   "source": [
    "blackman = signal.blackman(M=window_size)\n",
    "\n",
    "plt.rcParams[\"figure.figsize\"] = (12, 12)\n",
    "\n",
    "for num, item in enumerate(ts.columns):\n",
    "    ts1 = ts[8:-8]\n",
    "    ts2 = ts_roll[8:-8]\n",
    "    ts3 = ts_gauss[8:-8]\n",
    "    f_raw, Pxx_raw = signal.welch(ts1[item], fs=1, scaling='spectrum', nfft=1000)\n",
    "    f_roll, Pxx_roll = signal.welch(ts2[item], fs=1, scaling='spectrum', nfft=1000)\n",
    "    f_gauss, Pxx_gauss = signal.welch(ts3[item], fs=1, scaling='spectrum', nfft=1000)\n",
    "    \n",
    "    max_raw = np.where(Pxx_raw == max(Pxx_raw))\n",
    "    max_roll = np.where(Pxx_roll == max(Pxx_roll))\n",
    "    max_gauss = np.where(Pxx_gauss == max(Pxx_gauss))\n",
    "    \n",
    "    xy_raw = (f_raw[max_raw], Pxx_raw[max_raw])\n",
    "    xy_roll = (f_roll[max_roll], Pxx_roll[max_roll])\n",
    "    xy_gauss = (f_gauss[max_gauss], Pxx_gauss[max_gauss])\n",
    "    \n",
    "    plt.subplot(2, 2, num+1)\n",
    "    plt.title(item)\n",
    "    \n",
    "    plt.semilogy(f_raw, Pxx_raw, \\\n",
    "             label=\"Raw time series\", \\\n",
    "             color=\"coral\")\n",
    "    plt.annotate(f'{1/float(xy_raw[0]):.2f}', xy=xy_raw)\n",
    "    \n",
    "    plt.semilogy(f_gauss, Pxx_gauss, \\\n",
    "             label=f\"Gaussian (std = {std})\", \\\n",
    "             color=\"cornflowerblue\")\n",
    "    plt.annotate(f'{1/float(xy_gauss[0]):.2f}', xy=xy_gauss)\n",
    "    \n",
    "    plt.semilogy(f_roll, Pxx_roll, \\\n",
    "             label=f\"Rolling window (window = {window_size})\", \\\n",
    "             color=\"black\")\n",
    "    plt.annotate(f'{1/float(xy_roll[0]):.2f}', xy=xy_roll)\n",
    "    \n",
    "    plt.xlabel(\"Frequency, 1/days\")\n",
    "    plt.ylabel(\"PSD\")\n",
    "    plt.legend()\n",
    "    \n",
    "plt.rcParams[\"figure.figsize\"] = (12, 8)"
   ]
  },
  {
   "cell_type": "markdown",
   "id": "35c2dfe1",
   "metadata": {},
   "source": [
    "Maxima of spectral density functions are annotated in black text (those values are periods that correspond to frequencies)."
   ]
  },
  {
   "cell_type": "markdown",
   "id": "149be013",
   "metadata": {},
   "source": [
    "# Step 6: Auto-regression models"
   ]
  },
  {
   "cell_type": "markdown",
   "id": "54be1959",
   "metadata": {},
   "source": [
    "## tempC"
   ]
  },
  {
   "cell_type": "code",
   "execution_count": null,
   "id": "ed8aa8dc",
   "metadata": {},
   "outputs": [],
   "source": [
    "var = 'tempC'\n",
    "acf_raw = plot_acf(ts[var], lags=100)\n",
    "pacf_raw = plot_pacf(ts[var], lags=100)"
   ]
  },
  {
   "cell_type": "markdown",
   "id": "d4ea9fd2",
   "metadata": {},
   "source": [
    "SARIMA model:\n",
    "- d = 0, as the dataset is stationary without differencing;\n",
    "- the rest are optimized automatically."
   ]
  },
  {
   "cell_type": "code",
   "execution_count": null,
   "id": "09d4276c",
   "metadata": {},
   "outputs": [],
   "source": [
    "#ar_order = 5\n",
    "pred_list = []\n",
    "\n",
    "ts1 = ts[8:-8]\n",
    "ts2 = ts_roll[8:-8]\n",
    "ts3 = ts_gauss[8:-8]\n",
    "data_names = ['Raw data', 'Rolling window', 'Gaussian filter']\n",
    "\n",
    "ar_data = np.array([[*train_test_split(ts1[var], test_size=0.2, shuffle=False)],\n",
    "          [*train_test_split(ts2[var], test_size=0.2, shuffle=False)],\n",
    "          [*train_test_split(ts3[var], test_size=0.2, shuffle=False)]])\n",
    "\n",
    "# first index:     raw, roll, gauss\n",
    "# second index:    train, test\n",
    "\n",
    "plt.rcParams[\"figure.figsize\"] = (12, 12)\n",
    "for num in range(3):\n",
    "    cur_time = time.time()\n",
    "    \n",
    "    D = pm.arima.nsdiffs(ar_data[num, 0], m=12, max_D=5)\n",
    "    print(f\"D = {D}\")\n",
    "    \n",
    "    stepwise_model = pm.auto_arima(ar_data[num, 0], d=0,\n",
    "                            start_p=1, max_p=12,\n",
    "                            start_q=1, max_q=12,\n",
    "                            D=D,\n",
    "                            m=12,\n",
    "                            seasonal=True,\n",
    "                            stationary=True,\n",
    "                            information_criterion='aic',\n",
    "                            stepwise=True,\n",
    "                            suppress_warnings=True)\n",
    "    print(\"\\n\\n\\n\", data_names[num])\n",
    "    \n",
    "    stepwise_model.fit(ar_data[num, 0])\n",
    "    print(stepwise_model.summary(), \"\\n\\n\\n\")\n",
    "    \n",
    "    pred = stepwise_model.predict(len(ar_data[num, 1]))\n",
    "    pred_list.append(pred)\n",
    "    \n",
    "    delta_time = time.time() - cur_time\n",
    "    print(f\"Model {num+1} out of 3 done in {delta_time} seconds.\")"
   ]
  },
  {
   "cell_type": "code",
   "execution_count": null,
   "id": "571809e2",
   "metadata": {},
   "outputs": [],
   "source": [
    "plt.rcParams[\"figure.figsize\"] = (12, 12)\n",
    "for num in range(3):\n",
    "    plt.subplot(3, 1, num+1)\n",
    "    pred_list[num].head()\n",
    "    nrmse = rmse(pred_list[num], \\\n",
    "                 ar_data[num, 1]) / (np.max(ar_data[num, 1])-np.min(ar_data[num, 1]))\n",
    "    \n",
    "    plt.title(f\"{var}    {data_names[num]}    NRMSE = {nrmse:.4f}\")\n",
    "    plt.plot(ar_data[num, 0], color='coral')\n",
    "    plt.plot(ar_data[num, 1], color='coral')\n",
    "    plt.plot(pred_list[num], color='cornflowerblue')\n",
    "    \n",
    "plt.rcParams[\"figure.figsize\"] = (12, 8)"
   ]
  },
  {
   "cell_type": "markdown",
   "id": "fd605b83",
   "metadata": {},
   "source": [
    "## visibility"
   ]
  },
  {
   "cell_type": "code",
   "execution_count": null,
   "id": "0fc69f65",
   "metadata": {},
   "outputs": [],
   "source": [
    "var = 'visibility'\n",
    "pred_list = []\n",
    "\n",
    "ts1 = ts[8:-8]\n",
    "ts2 = ts_roll[8:-8]\n",
    "ts3 = ts_gauss[8:-8]\n",
    "data_names = ['Raw data', 'Rolling window', 'Gaussian filter']\n",
    "\n",
    "ar_data = np.array([[*train_test_split(ts1[var], test_size=0.2, shuffle=False)],\n",
    "          [*train_test_split(ts2[var], test_size=0.2, shuffle=False)],\n",
    "          [*train_test_split(ts3[var], test_size=0.2, shuffle=False)]])\n",
    "\n",
    "# first index:     raw, roll, gauss\n",
    "# second index:    train, test\n",
    "\n",
    "plt.rcParams[\"figure.figsize\"] = (12, 12)\n",
    "for num in range(3):\n",
    "    cur_time = time.time()\n",
    "    \n",
    "    D = pm.arima.nsdiffs(ar_data[num, 0], m=12, max_D=5)\n",
    "    print(f\"D = {D}\")\n",
    "    \n",
    "    stepwise_model = pm.auto_arima(ar_data[num, 0], d=0,\n",
    "                            start_p=1, max_p=12,\n",
    "                            start_q=1, max_q=12,\n",
    "                            D=D,\n",
    "                            m=12,\n",
    "                            seasonal=True,\n",
    "                            stationary=True,\n",
    "                            information_criterion='aic',\n",
    "                            stepwise=True,\n",
    "                            suppress_warnings=True)\n",
    "    print(\"\\n\\n\\n\", data_names[num])\n",
    "    \n",
    "    stepwise_model.fit(ar_data[num, 0])\n",
    "    print(stepwise_model.summary(), \"\\n\\n\\n\")\n",
    "    \n",
    "    pred = stepwise_model.predict(len(ar_data[num, 1]))\n",
    "    pred_list.append(pred)\n",
    "    \n",
    "    delta_time = time.time() - cur_time\n",
    "    print(f\"Model {num+1} out of 3 done in {delta_time} seconds.\")"
   ]
  },
  {
   "cell_type": "code",
   "execution_count": null,
   "id": "60ba2d86",
   "metadata": {},
   "outputs": [],
   "source": [
    "plt.rcParams[\"figure.figsize\"] = (12, 12)\n",
    "for num in range(3):\n",
    "    plt.subplot(3, 1, num+1)\n",
    "    pred_list[num].head()\n",
    "    nrmse = rmse(pred_list[num], \\\n",
    "                 ar_data[num, 1]) / (np.max(ar_data[num, 1])-np.min(ar_data[num, 1]))\n",
    "    \n",
    "    plt.title(f\"{var}    {data_names[num]}    NRMSE = {nrmse:.4f}\")\n",
    "    plt.plot(ar_data[num, 0], color='coral')\n",
    "    plt.plot(ar_data[num, 1], color='coral')\n",
    "    plt.plot(pred_list[num], color='cornflowerblue')\n",
    "    \n",
    "plt.rcParams[\"figure.figsize\"] = (12, 8)"
   ]
  },
  {
   "cell_type": "markdown",
   "id": "6fd4f935",
   "metadata": {},
   "source": [
    "## injured_count"
   ]
  },
  {
   "cell_type": "code",
   "execution_count": null,
   "id": "49f81db6",
   "metadata": {},
   "outputs": [],
   "source": [
    "var = 'injured_count'\n",
    "pred_list = []\n",
    "\n",
    "ts1 = ts[8:-8]\n",
    "ts2 = ts_roll[8:-8]\n",
    "ts3 = ts_gauss[8:-8]\n",
    "data_names = ['Raw data', 'Rolling window', 'Gaussian filter']\n",
    "\n",
    "ar_data = np.array([[*train_test_split(ts1[var], test_size=0.2, shuffle=False)],\n",
    "          [*train_test_split(ts2[var], test_size=0.2, shuffle=False)],\n",
    "          [*train_test_split(ts3[var], test_size=0.2, shuffle=False)]])\n",
    "\n",
    "# first index:     raw, roll, gauss\n",
    "# second index:    train, test\n",
    "\n",
    "plt.rcParams[\"figure.figsize\"] = (12, 12)\n",
    "for num in range(3):\n",
    "    cur_time = time.time()\n",
    "    \n",
    "    D = pm.arima.nsdiffs(ar_data[num, 0], m=12, max_D=5)\n",
    "    print(f\"D = {D}\")\n",
    "    \n",
    "    stepwise_model = pm.auto_arima(ar_data[num, 0], d=0,\n",
    "                            start_p=1, max_p=12,\n",
    "                            start_q=1, max_q=12,\n",
    "                            D=D,\n",
    "                            m=12,\n",
    "                            seasonal=True,\n",
    "                            stationary=True,\n",
    "                            information_criterion='aic',\n",
    "                            stepwise=True,\n",
    "                            suppress_warnings=True)\n",
    "    print(\"\\n\\n\\n\", data_names[num])\n",
    "    \n",
    "    stepwise_model.fit(ar_data[num, 0])\n",
    "    print(stepwise_model.summary(), \"\\n\\n\\n\")\n",
    "    \n",
    "    pred = stepwise_model.predict(len(ar_data[num, 1]))\n",
    "    pred_list.append(pred)\n",
    "    \n",
    "    delta_time = time.time() - cur_time\n",
    "    print(f\"Model {num+1} out of 3 done in {delta_time} seconds.\")"
   ]
  },
  {
   "cell_type": "code",
   "execution_count": null,
   "id": "ea4f497c",
   "metadata": {},
   "outputs": [],
   "source": [
    "plt.rcParams[\"figure.figsize\"] = (12, 12)\n",
    "for num in range(3):\n",
    "    plt.subplot(3, 1, num+1)\n",
    "    pred_list[num].head()\n",
    "    nrmse = rmse(pred_list[num], \\\n",
    "                 ar_data[num, 1]) / (np.max(ar_data[num, 1])-np.min(ar_data[num, 1]))\n",
    "    \n",
    "    plt.title(f\"{var}    {data_names[num]}    NRMSE = {nrmse:.4f}\")\n",
    "    plt.plot(ar_data[num, 0], color='coral')\n",
    "    plt.plot(ar_data[num, 1], color='coral')\n",
    "    plt.plot(pred_list[num], color='cornflowerblue')\n",
    "    \n",
    "plt.rcParams[\"figure.figsize\"] = (12, 8)"
   ]
  },
  {
   "cell_type": "markdown",
   "id": "58040a37",
   "metadata": {},
   "source": [
    "## severity"
   ]
  },
  {
   "cell_type": "code",
   "execution_count": null,
   "id": "bf304ede",
   "metadata": {},
   "outputs": [],
   "source": [
    "var = 'severity'\n",
    "pred_list = []\n",
    "\n",
    "ts1 = ts[8:-8]\n",
    "ts2 = ts_roll[8:-8]\n",
    "ts3 = ts_gauss[8:-8]\n",
    "data_names = ['Raw data', 'Rolling window', 'Gaussian filter']\n",
    "\n",
    "ar_data = np.array([[*train_test_split(ts1[var], test_size=0.2, shuffle=False)],\n",
    "          [*train_test_split(ts2[var], test_size=0.2, shuffle=False)],\n",
    "          [*train_test_split(ts3[var], test_size=0.2, shuffle=False)]])\n",
    "\n",
    "# first index:     raw, roll, gauss\n",
    "# second index:    train, test\n",
    "\n",
    "plt.rcParams[\"figure.figsize\"] = (12, 12)\n",
    "for num in range(3):\n",
    "    cur_time = time.time()\n",
    "    \n",
    "    D = pm.arima.nsdiffs(ar_data[num, 0], m=12, max_D=5)\n",
    "    print(f\"D = {D}\")\n",
    "    \n",
    "    stepwise_model = pm.auto_arima(ar_data[num, 0], d=0,\n",
    "                            start_p=1, max_p=12,\n",
    "                            start_q=1, max_q=12,\n",
    "                            D=D,\n",
    "                            m=12,\n",
    "                            seasonal=True,\n",
    "                            stationary=True,\n",
    "                            information_criterion='aic',\n",
    "                            stepwise=True,\n",
    "                            suppress_warnings=True)\n",
    "    print(\"\\n\\n\\n\", data_names[num])\n",
    "    \n",
    "    stepwise_model.fit(ar_data[num, 0])\n",
    "    print(stepwise_model.summary(), \"\\n\\n\\n\")\n",
    "    \n",
    "    pred = stepwise_model.predict(len(ar_data[num, 1]))\n",
    "    pred_list.append(pred)\n",
    "    \n",
    "    delta_time = time.time() - cur_time\n",
    "    print(f\"Model {num+1} out of 3 done in {delta_time} seconds.\")"
   ]
  },
  {
   "cell_type": "code",
   "execution_count": null,
   "id": "15d19408",
   "metadata": {},
   "outputs": [],
   "source": [
    "plt.rcParams[\"figure.figsize\"] = (12, 12)\n",
    "for num in range(3):\n",
    "    plt.subplot(3, 1, num+1)\n",
    "    pred_list[num].head()\n",
    "    nrmse = rmse(pred_list[num], \\\n",
    "                 ar_data[num, 1]) / (np.max(ar_data[num, 1])-np.min(ar_data[num, 1]))\n",
    "    \n",
    "    plt.title(f\"{var}    {data_names[num]}    NRMSE = {nrmse:.4f}\")\n",
    "    plt.plot(ar_data[num, 0], color='coral')\n",
    "    plt.plot(ar_data[num, 1], color='coral')\n",
    "    plt.plot(pred_list[num], color='cornflowerblue')\n",
    "    \n",
    "plt.rcParams[\"figure.figsize\"] = (12, 8)"
   ]
  },
  {
   "cell_type": "markdown",
   "id": "804747cf",
   "metadata": {},
   "source": [
    "# Step 7: Linear dynamical system"
   ]
  },
  {
   "cell_type": "code",
   "execution_count": null,
   "id": "20745a42",
   "metadata": {},
   "outputs": [],
   "source": [
    "nobs = 420\n",
    "ts1_train = ts1[['tempC', 'visibility']][0:-nobs]\n",
    "ts1_test = ts1[['tempC', 'visibility']][-nobs:]\n",
    "\n",
    "print(ts1_train.shape)\n",
    "print(ts1_test.shape)"
   ]
  },
  {
   "cell_type": "code",
   "execution_count": null,
   "id": "2c035712",
   "metadata": {},
   "outputs": [],
   "source": [
    "res_df = pd.DataFrame(columns=['i', 'AIC', 'BIC', 'FPE', 'HQIC'])\n",
    "\n",
    "model = VAR(ts1_train)\n",
    "for i in range(1, 10):\n",
    "    result = model.fit(i)\n",
    "    res_df = res_df.append({'i': i, 'AIC': result.aic, 'BIC': result.bic, \\\n",
    "                            'FPE': result.fpe, 'HQIC': result.hqic}, ignore_index=True)\n",
    "    \n",
    "res_df.set_index('i', inplace=True)\n",
    "\n",
    "res_df.drop(columns=['FPE']).plot()"
   ]
  },
  {
   "cell_type": "markdown",
   "id": "e73f33df",
   "metadata": {},
   "source": [
    "Model of order 4 selected"
   ]
  },
  {
   "cell_type": "code",
   "execution_count": null,
   "id": "4b6da748",
   "metadata": {},
   "outputs": [],
   "source": [
    "model_fitted = model.fit(4)\n",
    "model_fitted.summary()"
   ]
  },
  {
   "cell_type": "code",
   "execution_count": null,
   "id": "229f99c7",
   "metadata": {},
   "outputs": [],
   "source": [
    "out = durbin_watson(model_fitted.resid)\n",
    "\n",
    "for col, val in zip(ts1.columns, out):\n",
    "    print(f'{col}: {round(val, 2)}')"
   ]
  },
  {
   "cell_type": "code",
   "execution_count": null,
   "id": "c26b31ef",
   "metadata": {},
   "outputs": [],
   "source": [
    "# Get the lag order\n",
    "lag_order = model_fitted.k_ar\n",
    "print(lag_order)  #> 4\n",
    "\n",
    "# Input data for forecasting\n",
    "forecast_input = ts1_train.values[-lag_order:]\n",
    "forecast_input"
   ]
  },
  {
   "cell_type": "code",
   "execution_count": null,
   "id": "a47737eb",
   "metadata": {},
   "outputs": [],
   "source": [
    "# Forecast\n",
    "fc = model_fitted.forecast(y=forecast_input, steps=nobs)\n",
    "df_forecast = pd.DataFrame(fc, index=ts1[['tempC', 'visibility']].index[-nobs:], \\\n",
    "                           columns=ts1[['tempC', 'visibility']].columns)\n",
    "df_forecast"
   ]
  },
  {
   "cell_type": "code",
   "execution_count": null,
   "id": "ead65fad",
   "metadata": {},
   "outputs": [],
   "source": [
    "rrmse_df = ((((ts1_test-df_forecast)**2).mean(axis=0)) / ((ts1_test**2).sum(axis=0)))**0.5*100\n",
    "rrmse_df"
   ]
  },
  {
   "cell_type": "code",
   "execution_count": null,
   "id": "29fd39d4",
   "metadata": {},
   "outputs": [],
   "source": [
    "df_forecast.tail()"
   ]
  },
  {
   "cell_type": "code",
   "execution_count": null,
   "id": "07c363aa",
   "metadata": {},
   "outputs": [],
   "source": [
    "rrmse_tempC = rrmse_df['tempC']\n",
    "\n",
    "plt.subplot(2, 1, 1)\n",
    "plt.plot(ts1[['tempC']], label=\"actual\", color='coral')\n",
    "plt.plot(df_forecast[['tempC']], label=\"predicted\", color='cornflowerblue')\n",
    "plt.title(f\"tempC    rRMSE = {rrmse_tempC:.2f}%\")\n",
    "plt.legend()\n",
    "\n",
    "rrmse_visibility = rrmse_df['visibility']\n",
    "\n",
    "plt.subplot(2, 1, 2)\n",
    "plt.plot(ts1[['visibility']], label=\"actual\", color='coral')\n",
    "plt.plot(df_forecast[['visibility']], label=\"predicted\", color='cornflowerblue')\n",
    "plt.title(f\"visibility    rRMSE = {rrmse_visibility:.2f}%\")\n",
    "plt.legend()"
   ]
  },
  {
   "cell_type": "code",
   "execution_count": null,
   "id": "44ce9b76",
   "metadata": {},
   "outputs": [],
   "source": [
    "import dill\n",
    "dill.dump_session('./lab4_session.db')"
   ]
  }
 ],
 "metadata": {
  "kernelspec": {
   "display_name": "Python 3 (ipykernel)",
   "language": "python",
   "name": "python3"
  },
  "language_info": {
   "codemirror_mode": {
    "name": "ipython",
    "version": 3
   },
   "file_extension": ".py",
   "mimetype": "text/x-python",
   "name": "python",
   "nbconvert_exporter": "python",
   "pygments_lexer": "ipython3",
   "version": "3.10.6"
  }
 },
 "nbformat": 4,
 "nbformat_minor": 5
}
